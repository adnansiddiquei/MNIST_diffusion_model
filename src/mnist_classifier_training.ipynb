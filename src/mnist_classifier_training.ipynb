{
 "cells": [
  {
   "cell_type": "code",
   "execution_count": 1,
   "id": "initial_id",
   "metadata": {
    "collapsed": true,
    "ExecuteTime": {
     "end_time": "2024-03-22T03:07:08.117450Z",
     "start_time": "2024-03-22T03:07:06.520296Z"
    }
   },
   "outputs": [],
   "source": [
    "import numpy as np\n",
    "import torch\n",
    "import torch.nn as nn\n",
    "from accelerate import Accelerator\n",
    "from tqdm import tqdm\n",
    "from torch.utils.data import DataLoader\n",
    "from torchvision import transforms\n",
    "from torchvision.datasets import MNIST\n",
    "from torchvision.utils import save_image, make_grid\n",
    "from utils import ddpm_schedules, CNNBlock, CNN, DDPM, CNNClassifier\n",
    "from torch.autograd import Variable"
   ]
  },
  {
   "cell_type": "markdown",
   "source": [
    "This notebook trains an MNIST classifier using the existing CNNBlock class. The code for the CNNClassifier is in `utils`. "
   ],
   "metadata": {
    "collapsed": false
   },
   "id": "ca7bbb5ba67622a8"
  },
  {
   "cell_type": "code",
   "outputs": [],
   "source": [
    "tf = transforms.Compose([transforms.ToTensor(), transforms.Normalize((0.5,), (1.0))])\n",
    "\n",
    "train_dataset = MNIST(\"./data\", train=True, download=True, transform=tf)\n",
    "train_dataloader = DataLoader(train_dataset, batch_size=128, shuffle=True, num_workers=4, drop_last=True)\n",
    "\n",
    "test_dataset = MNIST(\"./data\", train=False, download=True, transform=tf)\n",
    "test_dataloader = DataLoader(test_dataset, batch_size=128, shuffle=False, num_workers=4, drop_last=True)"
   ],
   "metadata": {
    "collapsed": false,
    "ExecuteTime": {
     "end_time": "2024-03-22T03:07:08.139449Z",
     "start_time": "2024-03-22T03:07:08.118373Z"
    }
   },
   "id": "f1570cff2a1b3181",
   "execution_count": 2
  },
  {
   "cell_type": "code",
   "outputs": [
    {
     "data": {
      "text/plain": "CNNClassifier(\n  (blocks): ModuleList(\n    (0): CNNBlock(\n      (net): Sequential(\n        (0): Conv2d(1, 32, kernel_size=(5, 5), stride=(1, 1), padding=(2, 2))\n        (1): LayerNorm((32, 28, 28), eps=1e-05, elementwise_affine=True)\n        (2): GELU(approximate='none')\n      )\n    )\n    (1): CNNBlock(\n      (net): Sequential(\n        (0): Conv2d(32, 64, kernel_size=(5, 5), stride=(1, 1), padding=(2, 2))\n        (1): LayerNorm((64, 28, 28), eps=1e-05, elementwise_affine=True)\n        (2): GELU(approximate='none')\n      )\n    )\n    (2): CNNBlock(\n      (net): Sequential(\n        (0): Conv2d(64, 128, kernel_size=(5, 5), stride=(1, 1), padding=(2, 2))\n        (1): LayerNorm((128, 28, 28), eps=1e-05, elementwise_affine=True)\n        (2): GELU(approximate='none')\n      )\n    )\n    (3): CNNBlock(\n      (net): Sequential(\n        (0): Conv2d(128, 64, kernel_size=(5, 5), stride=(1, 1), padding=(2, 2))\n        (1): LayerNorm((64, 28, 28), eps=1e-05, elementwise_affine=True)\n        (2): GELU(approximate='none')\n      )\n    )\n  )\n  (adaptive_pooling): AdaptiveAvgPool2d(output_size=(4, 4))\n  (final): Linear(in_features=1024, out_features=10, bias=True)\n)"
     },
     "execution_count": 3,
     "metadata": {},
     "output_type": "execute_result"
    }
   ],
   "source": [
    "model = CNNClassifier(1, (32, 64, 128, 64), 10, adaptive_pooling_output_size=(4, 4)) # epoch 7, 99.23% test accuracy\n",
    "loss_fn = nn.CrossEntropyLoss()\n",
    "optim = torch.optim.Adam(model.parameters(), lr=2e-4)\n",
    "\n",
    "accelerator = Accelerator()\n",
    "ddpm, optim, train_dataloader, test_dataloader = accelerator.prepare(\n",
    "    model, optim, train_dataloader, test_dataloader\n",
    ")\n",
    "\n",
    "model"
   ],
   "metadata": {
    "collapsed": false,
    "ExecuteTime": {
     "end_time": "2024-03-22T03:07:09.831019Z",
     "start_time": "2024-03-22T03:07:09.791072Z"
    }
   },
   "id": "9263ba3687362804",
   "execution_count": 3
  },
  {
   "cell_type": "markdown",
   "source": [
    "Training loop is below."
   ],
   "metadata": {
    "collapsed": false
   },
   "id": "a93f520d95d1676a"
  },
  {
   "cell_type": "code",
   "outputs": [],
   "source": [
    "!mkdir contents_mnist_1"
   ],
   "metadata": {
    "collapsed": false,
    "ExecuteTime": {
     "end_time": "2024-03-22T03:20:22.479171Z",
     "start_time": "2024-03-22T03:20:22.346026Z"
    }
   },
   "id": "23ecd961ad40bced",
   "execution_count": 17
  },
  {
   "cell_type": "code",
   "outputs": [
    {
     "name": "stderr",
     "output_type": "stream",
     "text": [
      "loss: 0.0335:   1%|          | 5/468 [00:02<03:48,  2.02it/s]\n"
     ]
    },
    {
     "ename": "KeyboardInterrupt",
     "evalue": "",
     "output_type": "error",
     "traceback": [
      "\u001B[0;31m---------------------------------------------------------------------------\u001B[0m",
      "\u001B[0;31mKeyboardInterrupt\u001B[0m                         Traceback (most recent call last)",
      "Cell \u001B[0;32mIn[19], line 15\u001B[0m\n\u001B[1;32m     13\u001B[0m loss \u001B[38;5;241m=\u001B[39m loss_fn(preds, label)\n\u001B[1;32m     14\u001B[0m loss\u001B[38;5;241m.\u001B[39mbackward()\n\u001B[0;32m---> 15\u001B[0m train_loss\u001B[38;5;241m.\u001B[39mappend(\u001B[43mloss\u001B[49m\u001B[38;5;241;43m.\u001B[39;49m\u001B[43mitem\u001B[49m\u001B[43m(\u001B[49m\u001B[43m)\u001B[49m)\n\u001B[1;32m     17\u001B[0m avg_loss \u001B[38;5;241m=\u001B[39m np\u001B[38;5;241m.\u001B[39maverage(train_loss[\u001B[38;5;241m-\u001B[39m\u001B[38;5;241m100\u001B[39m:])\n\u001B[1;32m     18\u001B[0m pbar\u001B[38;5;241m.\u001B[39mset_description(\u001B[38;5;124mf\u001B[39m\u001B[38;5;124m\"\u001B[39m\u001B[38;5;124mloss: \u001B[39m\u001B[38;5;132;01m{\u001B[39;00mavg_loss\u001B[38;5;132;01m:\u001B[39;00m\u001B[38;5;124m.3g\u001B[39m\u001B[38;5;132;01m}\u001B[39;00m\u001B[38;5;124m\"\u001B[39m)  \u001B[38;5;66;03m# Show running average of loss in progress bar\u001B[39;00m\n",
      "\u001B[0;31mKeyboardInterrupt\u001B[0m: "
     ]
    }
   ],
   "source": [
    "n_epoch = 100\n",
    "train_loss = []\n",
    "test_loss = []\n",
    "\n",
    "for i in range(n_epoch):\n",
    "    model.train()\n",
    "\n",
    "    pbar = tqdm(train_dataloader)  # Wrap our loop with a visual progress bar\n",
    "\n",
    "    for x, label in pbar:\n",
    "        optim.zero_grad()\n",
    "        preds = model(x)\n",
    "        loss = loss_fn(preds, label)\n",
    "        loss.backward()\n",
    "        train_loss.append(loss.item())\n",
    "\n",
    "        avg_loss = np.average(train_loss[-100:])\n",
    "        pbar.set_description(f\"loss: {avg_loss:.3g}\")  # Show running average of loss in progress bar\n",
    "\n",
    "        optim.step()\n",
    "\n",
    "    model.eval()\n",
    "    test_loss_batch = []\n",
    "    correct_count = 0\n",
    "\n",
    "    for x, label_test in test_dataloader:\n",
    "        with torch.no_grad():\n",
    "            preds_test = model(x)\n",
    "            loss_test = loss_fn(preds_test, label_test)\n",
    "            test_loss_batch.append(loss_test.item())\n",
    "\n",
    "            # Calculate number of correct predictions\n",
    "            _, predicted = torch.max(preds_test.data, 1)\n",
    "            correct_count += (predicted == label_test).sum().item()\n",
    "\n",
    "    avg_test_loss = np.average(test_loss_batch)\n",
    "    test_loss.append(avg_test_loss)\n",
    "\n",
    "    # Calculate accuracy\n",
    "    accuracy = correct_count / len(test_dataset)\n",
    "\n",
    "    print(f'Epoch [{i+1}/{n_epoch}], Test Loss: {avg_test_loss:.4f}, Accuracy: {accuracy:.2%}')\n",
    "\n",
    "    torch.save(ddpm.state_dict(), f\"./contents_mnist_1/mnist_classifier_{i}.pth\")"
   ],
   "metadata": {
    "collapsed": false,
    "ExecuteTime": {
     "end_time": "2024-03-22T03:28:17.155361Z",
     "start_time": "2024-03-22T03:28:14.582385Z"
    }
   },
   "id": "18b5f136fe547b65",
   "execution_count": 19
  },
  {
   "cell_type": "code",
   "outputs": [],
   "source": [],
   "metadata": {
    "collapsed": false
   },
   "id": "5ce830b2f2a1a1ab"
  }
 ],
 "metadata": {
  "kernelspec": {
   "display_name": "Python 3",
   "language": "python",
   "name": "python3"
  },
  "language_info": {
   "codemirror_mode": {
    "name": "ipython",
    "version": 2
   },
   "file_extension": ".py",
   "mimetype": "text/x-python",
   "name": "python",
   "nbconvert_exporter": "python",
   "pygments_lexer": "ipython2",
   "version": "2.7.6"
  }
 },
 "nbformat": 4,
 "nbformat_minor": 5
}
